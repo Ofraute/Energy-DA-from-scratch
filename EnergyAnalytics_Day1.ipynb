{
  "nbformat": 4,
  "nbformat_minor": 0,
  "metadata": {
    "colab": {
      "name": "EnergyAnalytics_Day1.ipynb",
      "provenance": [],
      "authorship_tag": "ABX9TyPLLTMpOfa+QuFoVqhXLG/H",
      "include_colab_link": true
    },
    "kernelspec": {
      "name": "python3",
      "display_name": "Python 3"
    },
    "language_info": {
      "name": "python"
    }
  },
  "cells": [
    {
      "cell_type": "markdown",
      "metadata": {
        "id": "view-in-github",
        "colab_type": "text"
      },
      "source": [
        "<a href=\"https://colab.research.google.com/github/Ofraute/Energy-DA-from-scratch/blob/main/EnergyAnalytics_Day1.ipynb\" target=\"_parent\"><img src=\"https://colab.research.google.com/assets/colab-badge.svg\" alt=\"Open In Colab\"/></a>"
      ]
    },
    {
      "cell_type": "code",
      "execution_count": null,
      "metadata": {
        "colab": {
          "base_uri": "https://localhost:8080/"
        },
        "id": "dLaoqmzE4gwi",
        "outputId": "115e7fa6-9f8f-46f5-8de0-d88aca9a12a6"
      },
      "outputs": [
        {
          "output_type": "stream",
          "name": "stdout",
          "text": [
            "15\n"
          ]
        }
      ],
      "source": [
        "a = 5\n",
        "b = 10\n",
        "c = a+b\n",
        "print('c')"
      ]
    },
    {
      "cell_type": "code",
      "source": [
        "print(c)"
      ],
      "metadata": {
        "colab": {
          "base_uri": "https://localhost:8080/"
        },
        "id": "icRH7w6P4rYo",
        "outputId": "3ab8d891-68c6-444f-8f1d-25cb47cebc94"
      },
      "execution_count": null,
      "outputs": [
        {
          "output_type": "stream",
          "name": "stdout",
          "text": [
            "15\n"
          ]
        }
      ]
    },
    {
      "cell_type": "code",
      "source": [
        "9+2\n"
      ],
      "metadata": {
        "id": "eoXdWZk_5aPO",
        "colab": {
          "base_uri": "https://localhost:8080/"
        },
        "outputId": "5367ca0e-599b-4021-ff13-1b693951b9e9"
      },
      "execution_count": null,
      "outputs": [
        {
          "output_type": "execute_result",
          "data": {
            "text/plain": [
              "11"
            ]
          },
          "metadata": {},
          "execution_count": 3
        }
      ]
    },
    {
      "cell_type": "code",
      "source": [
        "2-1\n"
      ],
      "metadata": {
        "colab": {
          "base_uri": "https://localhost:8080/"
        },
        "id": "9s0rPAWD6_aB",
        "outputId": "0ba2c547-b38b-4c2f-9804-a445088c7a0f"
      },
      "execution_count": null,
      "outputs": [
        {
          "output_type": "execute_result",
          "data": {
            "text/plain": [
              "1"
            ]
          },
          "metadata": {},
          "execution_count": 4
        }
      ]
    },
    {
      "cell_type": "code",
      "source": [
        ""
      ],
      "metadata": {
        "id": "SWcz66jl7Q5z"
      },
      "execution_count": null,
      "outputs": []
    },
    {
      "cell_type": "markdown",
      "source": [
        "Test Oscar"
      ],
      "metadata": {
        "id": "HLuIK0rs9Fwi"
      }
    },
    {
      "cell_type": "code",
      "source": [
        "print('Hello Petroleum Engineers \\n Test')"
      ],
      "metadata": {
        "colab": {
          "base_uri": "https://localhost:8080/"
        },
        "id": "FaYg7iGh9H1s",
        "outputId": "23934d54-5a51-4ec9-c7c9-6afa7931f907"
      },
      "execution_count": null,
      "outputs": [
        {
          "output_type": "stream",
          "name": "stdout",
          "text": [
            "Hello Petroleum Engineers \n",
            " Test\n"
          ]
        }
      ]
    },
    {
      "cell_type": "code",
      "source": [
        ""
      ],
      "metadata": {
        "id": "LHSqyHPf-bCK"
      },
      "execution_count": null,
      "outputs": []
    },
    {
      "cell_type": "markdown",
      "source": [
        "\\n is used to move to the next line in the code\n",
        "#\\' break the codes"
      ],
      "metadata": {
        "id": "UilQaTP7-hCS"
      }
    },
    {
      "cell_type": "code",
      "source": [
        ""
      ],
      "metadata": {
        "id": "JQHvd18wAz7Y"
      },
      "execution_count": null,
      "outputs": []
    },
    {
      "cell_type": "code",
      "source": [
        "#"
      ],
      "metadata": {
        "id": "tUkKiNbO-mMj"
      },
      "execution_count": null,
      "outputs": []
    },
    {
      "cell_type": "code",
      "source": [
        ""
      ],
      "metadata": {
        "id": "dqaAT27BAyDW"
      },
      "execution_count": null,
      "outputs": []
    }
  ]
}